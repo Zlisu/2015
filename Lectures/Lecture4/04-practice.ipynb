{
 "cells": [
  {
   "cell_type": "code",
   "execution_count": 1,
   "metadata": {},
   "outputs": [],
   "source": [
    "%matplotlib inline\n",
    "# See all the \"as ...\" contructs? They're just aliasing the package names.\n",
    "# That way we can call methods like plt.plot() instead of matplotlib.pyplot.plot().\n",
    "import numpy as np\n",
    "import scipy as sp\n",
    "import matplotlib as mpl\n",
    "import matplotlib.cm as cm\n",
    "import matplotlib.pyplot as plt\n",
    "import pandas as pd\n",
    "import time\n",
    "pd.set_option('display.width', 500)\n",
    "pd.set_option('display.max_columns', 100)\n",
    "pd.set_option('display.notebook_repr_html', True)\n",
    "import seaborn as sns\n",
    "sns.set_style(\"whitegrid\")\n",
    "sns.set_context(\"poster\")"
   ]
  },
  {
   "cell_type": "code",
   "execution_count": 2,
   "metadata": {},
   "outputs": [],
   "source": [
    "# Connect and get a DBAPI2 connection\n",
    "from sqlite3 import dbapi2 as sq3\n",
    "import os\n",
    "PATHSTART=\".\"\n",
    "def get_db(dbfile):\n",
    "    sqlite_db = sq3.connect(os.path.join(PATHSTART, dbfile), timeout = 10)\n",
    "    return sqlite_db"
   ]
  },
  {
   "cell_type": "code",
   "execution_count": 3,
   "metadata": {},
   "outputs": [],
   "source": [
    "# create tables (drop if tables with the same name exist)\n",
    "def init_db(dbfile, schema):\n",
    "    \"\"\"Creates the database tables.\"\"\"\n",
    "    db = get_db(dbfile)\n",
    "    db.cursor().executescript(schema)\n",
    "    db.commit()\n",
    "    return db"
   ]
  },
  {
   "cell_type": "code",
   "execution_count": 7,
   "metadata": {},
   "outputs": [
    {
     "data": {
      "text/html": [
       "<div>\n",
       "<style scoped>\n",
       "    .dataframe tbody tr th:only-of-type {\n",
       "        vertical-align: middle;\n",
       "    }\n",
       "\n",
       "    .dataframe tbody tr th {\n",
       "        vertical-align: top;\n",
       "    }\n",
       "\n",
       "    .dataframe thead th {\n",
       "        text-align: right;\n",
       "    }\n",
       "</style>\n",
       "<table border=\"1\" class=\"dataframe\">\n",
       "  <thead>\n",
       "    <tr style=\"text-align: right;\">\n",
       "      <th></th>\n",
       "      <th>id</th>\n",
       "      <th>first_name</th>\n",
       "      <th>last_name</th>\n",
       "      <th>middle_name</th>\n",
       "      <th>party</th>\n",
       "    </tr>\n",
       "  </thead>\n",
       "  <tbody>\n",
       "    <tr>\n",
       "      <th>0</th>\n",
       "      <td>33</td>\n",
       "      <td>Joseph</td>\n",
       "      <td>Biden</td>\n",
       "      <td>NaN</td>\n",
       "      <td>D</td>\n",
       "    </tr>\n",
       "    <tr>\n",
       "      <th>1</th>\n",
       "      <td>36</td>\n",
       "      <td>Samuel</td>\n",
       "      <td>Brownback</td>\n",
       "      <td>NaN</td>\n",
       "      <td>R</td>\n",
       "    </tr>\n",
       "    <tr>\n",
       "      <th>2</th>\n",
       "      <td>34</td>\n",
       "      <td>Hillary</td>\n",
       "      <td>Clinton</td>\n",
       "      <td>R.</td>\n",
       "      <td>D</td>\n",
       "    </tr>\n",
       "    <tr>\n",
       "      <th>3</th>\n",
       "      <td>39</td>\n",
       "      <td>Christopher</td>\n",
       "      <td>Dodd</td>\n",
       "      <td>J.</td>\n",
       "      <td>D</td>\n",
       "    </tr>\n",
       "    <tr>\n",
       "      <th>4</th>\n",
       "      <td>26</td>\n",
       "      <td>John</td>\n",
       "      <td>Edwards</td>\n",
       "      <td>NaN</td>\n",
       "      <td>D</td>\n",
       "    </tr>\n",
       "  </tbody>\n",
       "</table>\n",
       "</div>"
      ],
      "text/plain": [
       "   id   first_name  last_name middle_name party\n",
       "0  33       Joseph      Biden         NaN     D\n",
       "1  36       Samuel  Brownback         NaN     R\n",
       "2  34      Hillary    Clinton          R.     D\n",
       "3  39  Christopher       Dodd          J.     D\n",
       "4  26         John    Edwards         NaN     D"
      ]
     },
     "execution_count": 7,
     "metadata": {},
     "output_type": "execute_result"
    }
   ],
   "source": [
    "dfcand = pd.read_csv(\"./candidates.txt\", sep=\"|\")\n",
    "dfcand.head()"
   ]
  },
  {
   "cell_type": "code",
   "execution_count": 5,
   "metadata": {},
   "outputs": [
    {
     "data": {
      "text/plain": [
       "pandas.core.frame.DataFrame"
      ]
     },
     "execution_count": 5,
     "metadata": {},
     "output_type": "execute_result"
    }
   ],
   "source": [
    "type(dfcand)"
   ]
  },
  {
   "cell_type": "code",
   "execution_count": 6,
   "metadata": {},
   "outputs": [
    {
     "data": {
      "text/html": [
       "<div>\n",
       "<style scoped>\n",
       "    .dataframe tbody tr th:only-of-type {\n",
       "        vertical-align: middle;\n",
       "    }\n",
       "\n",
       "    .dataframe tbody tr th {\n",
       "        vertical-align: top;\n",
       "    }\n",
       "\n",
       "    .dataframe thead th {\n",
       "        text-align: right;\n",
       "    }\n",
       "</style>\n",
       "<table border=\"1\" class=\"dataframe\">\n",
       "  <thead>\n",
       "    <tr style=\"text-align: right;\">\n",
       "      <th></th>\n",
       "      <th>id</th>\n",
       "      <th>last_name</th>\n",
       "      <th>first_name</th>\n",
       "      <th>middle_name</th>\n",
       "      <th>street_1</th>\n",
       "      <th>street_2</th>\n",
       "      <th>city</th>\n",
       "      <th>state</th>\n",
       "      <th>zip</th>\n",
       "      <th>amount</th>\n",
       "      <th>date</th>\n",
       "      <th>candidate_id</th>\n",
       "    </tr>\n",
       "  </thead>\n",
       "  <tbody>\n",
       "    <tr>\n",
       "      <th>0</th>\n",
       "      <td>NaN</td>\n",
       "      <td>Agee</td>\n",
       "      <td>Steven</td>\n",
       "      <td>NaN</td>\n",
       "      <td>549 Laurel Branch Road</td>\n",
       "      <td>NaN</td>\n",
       "      <td>Floyd</td>\n",
       "      <td>VA</td>\n",
       "      <td>24091</td>\n",
       "      <td>500.0</td>\n",
       "      <td>2007-06-30</td>\n",
       "      <td>16</td>\n",
       "    </tr>\n",
       "    <tr>\n",
       "      <th>1</th>\n",
       "      <td>NaN</td>\n",
       "      <td>Ahrens</td>\n",
       "      <td>Don</td>\n",
       "      <td>NaN</td>\n",
       "      <td>4034 Rennellwood Way</td>\n",
       "      <td>NaN</td>\n",
       "      <td>Pleasanton</td>\n",
       "      <td>CA</td>\n",
       "      <td>94566</td>\n",
       "      <td>250.0</td>\n",
       "      <td>2007-05-16</td>\n",
       "      <td>16</td>\n",
       "    </tr>\n",
       "    <tr>\n",
       "      <th>2</th>\n",
       "      <td>NaN</td>\n",
       "      <td>Ahrens</td>\n",
       "      <td>Don</td>\n",
       "      <td>NaN</td>\n",
       "      <td>4034 Rennellwood Way</td>\n",
       "      <td>NaN</td>\n",
       "      <td>Pleasanton</td>\n",
       "      <td>CA</td>\n",
       "      <td>94566</td>\n",
       "      <td>50.0</td>\n",
       "      <td>2007-06-18</td>\n",
       "      <td>16</td>\n",
       "    </tr>\n",
       "    <tr>\n",
       "      <th>3</th>\n",
       "      <td>NaN</td>\n",
       "      <td>Ahrens</td>\n",
       "      <td>Don</td>\n",
       "      <td>NaN</td>\n",
       "      <td>4034 Rennellwood Way</td>\n",
       "      <td>NaN</td>\n",
       "      <td>Pleasanton</td>\n",
       "      <td>CA</td>\n",
       "      <td>94566</td>\n",
       "      <td>100.0</td>\n",
       "      <td>2007-06-21</td>\n",
       "      <td>16</td>\n",
       "    </tr>\n",
       "    <tr>\n",
       "      <th>4</th>\n",
       "      <td>NaN</td>\n",
       "      <td>Akin</td>\n",
       "      <td>Charles</td>\n",
       "      <td>NaN</td>\n",
       "      <td>10187 Sugar Creek Road</td>\n",
       "      <td>NaN</td>\n",
       "      <td>Bentonville</td>\n",
       "      <td>AR</td>\n",
       "      <td>72712</td>\n",
       "      <td>100.0</td>\n",
       "      <td>2007-06-16</td>\n",
       "      <td>16</td>\n",
       "    </tr>\n",
       "  </tbody>\n",
       "</table>\n",
       "</div>"
      ],
      "text/plain": [
       "   id last_name first_name middle_name                street_1 street_2         city state    zip  amount        date  candidate_id\n",
       "0 NaN      Agee     Steven         NaN  549 Laurel Branch Road      NaN        Floyd    VA  24091   500.0  2007-06-30            16\n",
       "1 NaN    Ahrens        Don         NaN    4034 Rennellwood Way      NaN   Pleasanton    CA  94566   250.0  2007-05-16            16\n",
       "2 NaN    Ahrens        Don         NaN    4034 Rennellwood Way      NaN   Pleasanton    CA  94566    50.0  2007-06-18            16\n",
       "3 NaN    Ahrens        Don         NaN    4034 Rennellwood Way      NaN   Pleasanton    CA  94566   100.0  2007-06-21            16\n",
       "4 NaN      Akin    Charles         NaN  10187 Sugar Creek Road      NaN  Bentonville    AR  72712   100.0  2007-06-16            16"
      ]
     },
     "execution_count": 6,
     "metadata": {},
     "output_type": "execute_result"
    }
   ],
   "source": [
    "dfcwci = pd.read_csv(\"./contributors_with_candidate_id.txt\", sep=\"|\")\n",
    "dfcwci.head()"
   ]
  },
  {
   "cell_type": "code",
   "execution_count": 8,
   "metadata": {
    "scrolled": true
   },
   "outputs": [
    {
     "data": {
      "text/html": [
       "<div>\n",
       "<style scoped>\n",
       "    .dataframe tbody tr th:only-of-type {\n",
       "        vertical-align: middle;\n",
       "    }\n",
       "\n",
       "    .dataframe tbody tr th {\n",
       "        vertical-align: top;\n",
       "    }\n",
       "\n",
       "    .dataframe thead th {\n",
       "        text-align: right;\n",
       "    }\n",
       "</style>\n",
       "<table border=\"1\" class=\"dataframe\">\n",
       "  <thead>\n",
       "    <tr style=\"text-align: right;\">\n",
       "      <th></th>\n",
       "      <th>last_name</th>\n",
       "      <th>first_name</th>\n",
       "      <th>middle_name</th>\n",
       "      <th>street_1</th>\n",
       "      <th>street_2</th>\n",
       "      <th>city</th>\n",
       "      <th>state</th>\n",
       "      <th>zip</th>\n",
       "      <th>amount</th>\n",
       "      <th>date</th>\n",
       "      <th>candidate_id</th>\n",
       "    </tr>\n",
       "  </thead>\n",
       "  <tbody>\n",
       "    <tr>\n",
       "      <th>0</th>\n",
       "      <td>Agee</td>\n",
       "      <td>Steven</td>\n",
       "      <td>NaN</td>\n",
       "      <td>549 Laurel Branch Road</td>\n",
       "      <td>NaN</td>\n",
       "      <td>Floyd</td>\n",
       "      <td>VA</td>\n",
       "      <td>24091</td>\n",
       "      <td>500.0</td>\n",
       "      <td>2007-06-30</td>\n",
       "      <td>16</td>\n",
       "    </tr>\n",
       "    <tr>\n",
       "      <th>1</th>\n",
       "      <td>Ahrens</td>\n",
       "      <td>Don</td>\n",
       "      <td>NaN</td>\n",
       "      <td>4034 Rennellwood Way</td>\n",
       "      <td>NaN</td>\n",
       "      <td>Pleasanton</td>\n",
       "      <td>CA</td>\n",
       "      <td>94566</td>\n",
       "      <td>250.0</td>\n",
       "      <td>2007-05-16</td>\n",
       "      <td>16</td>\n",
       "    </tr>\n",
       "    <tr>\n",
       "      <th>2</th>\n",
       "      <td>Ahrens</td>\n",
       "      <td>Don</td>\n",
       "      <td>NaN</td>\n",
       "      <td>4034 Rennellwood Way</td>\n",
       "      <td>NaN</td>\n",
       "      <td>Pleasanton</td>\n",
       "      <td>CA</td>\n",
       "      <td>94566</td>\n",
       "      <td>50.0</td>\n",
       "      <td>2007-06-18</td>\n",
       "      <td>16</td>\n",
       "    </tr>\n",
       "    <tr>\n",
       "      <th>3</th>\n",
       "      <td>Ahrens</td>\n",
       "      <td>Don</td>\n",
       "      <td>NaN</td>\n",
       "      <td>4034 Rennellwood Way</td>\n",
       "      <td>NaN</td>\n",
       "      <td>Pleasanton</td>\n",
       "      <td>CA</td>\n",
       "      <td>94566</td>\n",
       "      <td>100.0</td>\n",
       "      <td>2007-06-21</td>\n",
       "      <td>16</td>\n",
       "    </tr>\n",
       "    <tr>\n",
       "      <th>4</th>\n",
       "      <td>Akin</td>\n",
       "      <td>Charles</td>\n",
       "      <td>NaN</td>\n",
       "      <td>10187 Sugar Creek Road</td>\n",
       "      <td>NaN</td>\n",
       "      <td>Bentonville</td>\n",
       "      <td>AR</td>\n",
       "      <td>72712</td>\n",
       "      <td>100.0</td>\n",
       "      <td>2007-06-16</td>\n",
       "      <td>16</td>\n",
       "    </tr>\n",
       "  </tbody>\n",
       "</table>\n",
       "</div>"
      ],
      "text/plain": [
       "  last_name first_name middle_name                street_1 street_2         city state    zip  amount        date  candidate_id\n",
       "0      Agee     Steven         NaN  549 Laurel Branch Road      NaN        Floyd    VA  24091   500.0  2007-06-30            16\n",
       "1    Ahrens        Don         NaN    4034 Rennellwood Way      NaN   Pleasanton    CA  94566   250.0  2007-05-16            16\n",
       "2    Ahrens        Don         NaN    4034 Rennellwood Way      NaN   Pleasanton    CA  94566    50.0  2007-06-18            16\n",
       "3    Ahrens        Don         NaN    4034 Rennellwood Way      NaN   Pleasanton    CA  94566   100.0  2007-06-21            16\n",
       "4      Akin    Charles         NaN  10187 Sugar Creek Road      NaN  Bentonville    AR  72712   100.0  2007-06-16            16"
      ]
     },
     "execution_count": 8,
     "metadata": {},
     "output_type": "execute_result"
    }
   ],
   "source": [
    "del dfcwci['id']\n",
    "dfcwci.head()"
   ]
  },
  {
   "cell_type": "code",
   "execution_count": 11,
   "metadata": {},
   "outputs": [],
   "source": [
    "ourschema=\"\"\"\n",
    "DROP TABLE IF EXISTS \"candidates\";\n",
    "DROP TABLE IF EXISTS \"contributors\";\n",
    "CREATE TABLE \"candidates\" (\n",
    "    \"id\" INTEGER PRIMARY KEY  NOT NULL ,\n",
    "    \"first_name\" VARCHAR,\n",
    "    \"last_name\" VARCHAR,\n",
    "    \"middle_name\" VARCHAR,\n",
    "    \"party\" VARCHAR NOT NULL\n",
    ");\n",
    "CREATE TABLE \"contributors\" (\n",
    "    \"id\" INTEGER PRIMARY KEY  AUTOINCREMENT  NOT NULL,\n",
    "    \"last_name\" VARCHAR,\n",
    "    \"first_name\" VARCHAR,\n",
    "    \"middle_name\" VARCHAR,\n",
    "    \"street_1\" VARCHAR,\n",
    "    \"street_2\" VARCHAR,\n",
    "    \"city\" VARCHAR,\n",
    "    \"state\" VARCHAR,\n",
    "    \"zip\" VARCHAR,\n",
    "    \"amount\" INTEGER,\n",
    "    \"date\" DATETIME,\n",
    "    \"candidate_id\" INTEGER NOT NULL,\n",
    "    FOREIGN KEY(candidate_id) REFERENCES candidates(id)\n",
    ");\n",
    "\"\"\""
   ]
  },
  {
   "cell_type": "code",
   "execution_count": 12,
   "metadata": {},
   "outputs": [],
   "source": [
    "# ourschema 中已经定义了 db 中要建立的两个表格（candidates 和 contributors)\n",
    "# 以及这两个\n",
    "db = init_db(\"cancont.db\", ourschema)"
   ]
  },
  {
   "cell_type": "code",
   "execution_count": 13,
   "metadata": {},
   "outputs": [],
   "source": [
    "# 从 panda df 中向 database 的 table 导入数据\n",
    "dfcand.to_sql(\"candidates\", db, if_exists=\"append\", index=False)\n",
    "dfcwci.to_sql(\"contributors\", db, if_exists=\"append\", index=False)"
   ]
  },
  {
   "cell_type": "code",
   "execution_count": 14,
   "metadata": {},
   "outputs": [
    {
     "data": {
      "text/plain": [
       "(175, 11)"
      ]
     },
     "execution_count": 14,
     "metadata": {},
     "output_type": "execute_result"
    }
   ],
   "source": [
    "dfcwci.shape"
   ]
  },
  {
   "cell_type": "code",
   "execution_count": 15,
   "metadata": {},
   "outputs": [
    {
     "data": {
      "text/plain": [
       "[(16, 'Mike', 'Huckabee', None, 'R'),\n",
       " (20, 'Barack', 'Obama', None, 'D'),\n",
       " (22, 'Rudolph', 'Giuliani', None, 'R'),\n",
       " (24, 'Mike', 'Gravel', None, 'D'),\n",
       " (26, 'John', 'Edwards', None, 'D'),\n",
       " (29, 'Bill', 'Richardson', None, 'D'),\n",
       " (30, 'Duncan', 'Hunter', None, 'R'),\n",
       " (31, 'Dennis', 'Kucinich', None, 'D'),\n",
       " (32, 'Ron', 'Paul', None, 'R'),\n",
       " (33, 'Joseph', 'Biden', None, 'D'),\n",
       " (34, 'Hillary', 'Clinton', 'R.', 'D'),\n",
       " (35, 'Mitt', 'Romney', None, 'R'),\n",
       " (36, 'Samuel', 'Brownback', None, 'R'),\n",
       " (37, 'John', 'McCain', None, 'R'),\n",
       " (38, 'Tom', 'Tancredo', None, 'R'),\n",
       " (39, 'Christopher', 'Dodd', 'J.', 'D'),\n",
       " (41, 'Fred', 'Thompson', 'D.', 'R')]"
      ]
     },
     "execution_count": 15,
     "metadata": {},
     "output_type": "execute_result"
    }
   ],
   "source": [
    "sel = \"\"\"\n",
    "SELECT * FROM candidates;\n",
    "\"\"\"\n",
    "c = db.cursor().execute(sel)\n",
    "c.fetchall()"
   ]
  },
  {
   "cell_type": "code",
   "execution_count": 21,
   "metadata": {},
   "outputs": [
    {
     "data": {
      "text/plain": [
       "[]"
      ]
     },
     "execution_count": 21,
     "metadata": {},
     "output_type": "execute_result"
    }
   ],
   "source": [
    "# 用 insert 向 table 中输入数据\n",
    "# canditates中已经有数据了，所以再 insert 一遍相同的数据就会导致 primary key 重复而失败，\n",
    "# 所以这里先删除 candidates 中的数据再重新 insert\n",
    "\n",
    "rem = \"\"\"\n",
    "DELETE FROM candidates;\n",
    "\"\"\"\n",
    "c = db.cursor().execute(rem)\n",
    "db.commit()\n",
    "c.fetchall()"
   ]
  },
  {
   "cell_type": "code",
   "execution_count": 28,
   "metadata": {},
   "outputs": [
    {
     "name": "stdout",
     "output_type": "stream",
     "text": [
      "list slines:\n",
      "[['id', 'first_name', 'last_name', 'middle_name', 'party'], ['33', 'Joseph', 'Biden', '', 'D'], ['36', 'Samuel', 'Brownback', '', 'R'], ['34', 'Hillary', 'Clinton', 'R.', 'D'], ['39', 'Christopher', 'Dodd', 'J.', 'D'], ['26', 'John', 'Edwards', '', 'D'], ['22', 'Rudolph', 'Giuliani', '', 'R'], ['24', 'Mike', 'Gravel', '', 'D'], ['16', 'Mike', 'Huckabee', '', 'R'], ['30', 'Duncan', 'Hunter', '', 'R'], ['31', 'Dennis', 'Kucinich', '', 'D'], ['37', 'John', 'McCain', '', 'R'], ['20', 'Barack', 'Obama', '', 'D'], ['32', 'Ron', 'Paul', '', 'R'], ['29', 'Bill', 'Richardson', '', 'D'], ['35', 'Mitt', 'Romney', '', 'R'], ['38', 'Tom', 'Tancredo', '', 'R'], ['41', 'Fred', 'Thompson', 'D.', 'R']]\n",
      "end of slines \t\n",
      "33 Joseph Biden  D\n",
      "\n",
      "INSERT INTO candidates (id, first_name, last_name, middle_name, party)     VALUES (?,?,?,?,?);\n",
      " (33, 'Joseph', 'Biden', '', 'D')\n",
      "36 Samuel Brownback  R\n",
      "\n",
      "INSERT INTO candidates (id, first_name, last_name, middle_name, party)     VALUES (?,?,?,?,?);\n",
      " (36, 'Samuel', 'Brownback', '', 'R')\n",
      "34 Hillary Clinton R. D\n",
      "\n",
      "INSERT INTO candidates (id, first_name, last_name, middle_name, party)     VALUES (?,?,?,?,?);\n",
      " (34, 'Hillary', 'Clinton', 'R.', 'D')\n",
      "39 Christopher Dodd J. D\n",
      "\n",
      "INSERT INTO candidates (id, first_name, last_name, middle_name, party)     VALUES (?,?,?,?,?);\n",
      " (39, 'Christopher', 'Dodd', 'J.', 'D')\n",
      "26 John Edwards  D\n",
      "\n",
      "INSERT INTO candidates (id, first_name, last_name, middle_name, party)     VALUES (?,?,?,?,?);\n",
      " (26, 'John', 'Edwards', '', 'D')\n",
      "22 Rudolph Giuliani  R\n",
      "\n",
      "INSERT INTO candidates (id, first_name, last_name, middle_name, party)     VALUES (?,?,?,?,?);\n",
      " (22, 'Rudolph', 'Giuliani', '', 'R')\n",
      "24 Mike Gravel  D\n",
      "\n",
      "INSERT INTO candidates (id, first_name, last_name, middle_name, party)     VALUES (?,?,?,?,?);\n",
      " (24, 'Mike', 'Gravel', '', 'D')\n",
      "16 Mike Huckabee  R\n",
      "\n",
      "INSERT INTO candidates (id, first_name, last_name, middle_name, party)     VALUES (?,?,?,?,?);\n",
      " (16, 'Mike', 'Huckabee', '', 'R')\n",
      "30 Duncan Hunter  R\n",
      "\n",
      "INSERT INTO candidates (id, first_name, last_name, middle_name, party)     VALUES (?,?,?,?,?);\n",
      " (30, 'Duncan', 'Hunter', '', 'R')\n",
      "31 Dennis Kucinich  D\n",
      "\n",
      "INSERT INTO candidates (id, first_name, last_name, middle_name, party)     VALUES (?,?,?,?,?);\n",
      " (31, 'Dennis', 'Kucinich', '', 'D')\n",
      "37 John McCain  R\n",
      "\n",
      "INSERT INTO candidates (id, first_name, last_name, middle_name, party)     VALUES (?,?,?,?,?);\n",
      " (37, 'John', 'McCain', '', 'R')\n",
      "20 Barack Obama  D\n",
      "\n",
      "INSERT INTO candidates (id, first_name, last_name, middle_name, party)     VALUES (?,?,?,?,?);\n",
      " (20, 'Barack', 'Obama', '', 'D')\n",
      "32 Ron Paul  R\n",
      "\n",
      "INSERT INTO candidates (id, first_name, last_name, middle_name, party)     VALUES (?,?,?,?,?);\n",
      " (32, 'Ron', 'Paul', '', 'R')\n",
      "29 Bill Richardson  D\n",
      "\n",
      "INSERT INTO candidates (id, first_name, last_name, middle_name, party)     VALUES (?,?,?,?,?);\n",
      " (29, 'Bill', 'Richardson', '', 'D')\n",
      "35 Mitt Romney  R\n",
      "\n",
      "INSERT INTO candidates (id, first_name, last_name, middle_name, party)     VALUES (?,?,?,?,?);\n",
      " (35, 'Mitt', 'Romney', '', 'R')\n",
      "38 Tom Tancredo  R\n",
      "\n",
      "INSERT INTO candidates (id, first_name, last_name, middle_name, party)     VALUES (?,?,?,?,?);\n",
      " (38, 'Tom', 'Tancredo', '', 'R')\n",
      "41 Fred Thompson D. R\n",
      "\n",
      "INSERT INTO candidates (id, first_name, last_name, middle_name, party)     VALUES (?,?,?,?,?);\n",
      " (41, 'Fred', 'Thompson', 'D.', 'R')\n"
     ]
    }
   ],
   "source": [
    "ins = \"\"\"\n",
    "INSERT INTO candidates (id, first_name, last_name, middle_name, party) \\\n",
    "    VALUES (?,?,?,?,?);\n",
    "\"\"\"\n",
    "\n",
    "with open(\"candidates.txt\") as fd:\n",
    "    slines = [l.strip().split('|') for l in fd.readlines()]\n",
    "    print(\"list slines:\")\n",
    "    print(slines)\n",
    "    print(\"end of slines\", '\\t')\n",
    "    for line in slines[1:]:\n",
    "        theid, first_name, last_name, middle_name, party = line\n",
    "        print(theid, first_name, last_name, middle_name, party)\n",
    "        valstoinsert = (int(theid), first_name, last_name, middle_name, party)\n",
    "        print(ins, valstoinsert)\n",
    "        db.cursor().execute(ins, valstoinsert)"
   ]
  },
  {
   "cell_type": "code",
   "execution_count": 29,
   "metadata": {},
   "outputs": [
    {
     "data": {
      "text/plain": [
       "[(16, 'Mike', 'Huckabee', '', 'R'),\n",
       " (20, 'Barack', 'Obama', '', 'D'),\n",
       " (22, 'Rudolph', 'Giuliani', '', 'R'),\n",
       " (24, 'Mike', 'Gravel', '', 'D'),\n",
       " (26, 'John', 'Edwards', '', 'D'),\n",
       " (29, 'Bill', 'Richardson', '', 'D'),\n",
       " (30, 'Duncan', 'Hunter', '', 'R'),\n",
       " (31, 'Dennis', 'Kucinich', '', 'D'),\n",
       " (32, 'Ron', 'Paul', '', 'R'),\n",
       " (33, 'Joseph', 'Biden', '', 'D'),\n",
       " (34, 'Hillary', 'Clinton', 'R.', 'D'),\n",
       " (35, 'Mitt', 'Romney', '', 'R'),\n",
       " (36, 'Samuel', 'Brownback', '', 'R'),\n",
       " (37, 'John', 'McCain', '', 'R'),\n",
       " (38, 'Tom', 'Tancredo', '', 'R'),\n",
       " (39, 'Christopher', 'Dodd', 'J.', 'D'),\n",
       " (41, 'Fred', 'Thompson', 'D.', 'R')]"
      ]
     },
     "execution_count": 29,
     "metadata": {},
     "output_type": "execute_result"
    }
   ],
   "source": [
    "def make_query(sel):\n",
    "    c = db.cursor().execute(sel)\n",
    "    return c.fetchall()\n",
    "\n",
    "make_query(\"SELECT * from candidates;\")"
   ]
  },
  {
   "cell_type": "code",
   "execution_count": 31,
   "metadata": {},
   "outputs": [],
   "source": [
    "rem = \"\"\"\n",
    "DELETE FROM candidates;\n",
    "\"\"\"\n",
    "\n",
    "c = db.cursor().execute(rem)\n",
    "db.commit()"
   ]
  },
  {
   "cell_type": "code",
   "execution_count": 37,
   "metadata": {},
   "outputs": [
    {
     "name": "stdout",
     "output_type": "stream",
     "text": [
      "Couldn't find program: 'bash'\n"
     ]
    }
   ],
   "source": [
    "%%bash\n",
    "tail -n +2 candidates.txt > candidates_nohead.txt\n",
    "echo \".import candidates_nohead.txt candidates\" | sqlite3 cancont.db2"
   ]
  },
  {
   "cell_type": "code",
   "execution_count": 32,
   "metadata": {},
   "outputs": [
    {
     "data": {
      "text/plain": [
       "[]"
      ]
     },
     "execution_count": 32,
     "metadata": {},
     "output_type": "execute_result"
    }
   ],
   "source": [
    "make_query(\"SELECT * FROM candidates;\")"
   ]
  },
  {
   "cell_type": "code",
   "execution_count": null,
   "metadata": {},
   "outputs": [],
   "source": []
  }
 ],
 "metadata": {
  "kernelspec": {
   "display_name": "Python 3",
   "language": "python",
   "name": "python3"
  },
  "language_info": {
   "codemirror_mode": {
    "name": "ipython",
    "version": 3
   },
   "file_extension": ".py",
   "mimetype": "text/x-python",
   "name": "python",
   "nbconvert_exporter": "python",
   "pygments_lexer": "ipython3",
   "version": "3.7.3"
  },
  "toc": {
   "base_numbering": 1,
   "nav_menu": {},
   "number_sections": true,
   "sideBar": true,
   "skip_h1_title": false,
   "title_cell": "Table of Contents",
   "title_sidebar": "Contents",
   "toc_cell": false,
   "toc_position": {},
   "toc_section_display": true,
   "toc_window_display": false
  },
  "varInspector": {
   "cols": {
    "lenName": 16,
    "lenType": 16,
    "lenVar": 40
   },
   "kernels_config": {
    "python": {
     "delete_cmd_postfix": "",
     "delete_cmd_prefix": "del ",
     "library": "var_list.py",
     "varRefreshCmd": "print(var_dic_list())"
    },
    "r": {
     "delete_cmd_postfix": ") ",
     "delete_cmd_prefix": "rm(",
     "library": "var_list.r",
     "varRefreshCmd": "cat(var_dic_list()) "
    }
   },
   "types_to_exclude": [
    "module",
    "function",
    "builtin_function_or_method",
    "instance",
    "_Feature"
   ],
   "window_display": false
  }
 },
 "nbformat": 4,
 "nbformat_minor": 2
}
